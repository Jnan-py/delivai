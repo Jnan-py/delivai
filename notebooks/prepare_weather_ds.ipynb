{
 "cells": [
  {
   "cell_type": "code",
   "execution_count": 1,
   "metadata": {},
   "outputs": [],
   "source": [
    "import pandas as pd\n",
    "import numpy as np\n",
    "from datetime import datetime\n",
    "from tensorflow.keras.models import load_model"
   ]
  },
  {
   "cell_type": "code",
   "execution_count": null,
   "metadata": {},
   "outputs": [],
   "source": [
    "def preprocess_data(input_csv):\n",
    "    df = pd.read_csv(input_csv)\n",
    "    \n",
    "    df['tpep_pickup_datetime'] = pd.to_datetime(df['tpep_pickup_datetime'], errors='coerce')\n",
    "    df['date_ordinal'] = df['tpep_pickup_datetime'].apply(lambda x: x.toordinal() if pd.notnull(x) else None)\n",
    "    \n",
    "    df['pickup_latitude'] = pd.to_numeric(df['pickup_latitude'], errors='coerce')\n",
    "    df['pickup_longitude'] = pd.to_numeric(df['pickup_longitude'], errors='coerce')\n",
    "    \n",
    "    df = df.dropna(subset=['date_ordinal', 'pickup_latitude', 'pickup_longitude'])\n",
    "    \n",
    "    return df"
   ]
  },
  {
   "cell_type": "code",
   "execution_count": null,
   "metadata": {},
   "outputs": [],
   "source": [
    "def prepare_features(df):    \n",
    "    X = df[['date_ordinal', 'pickup_latitude', 'pickup_longitude']].values\n",
    "    X = X.reshape((X.shape[0], 1, X.shape[1]))\n",
    "    return X"
   ]
  },
  {
   "cell_type": "code",
   "execution_count": null,
   "metadata": {},
   "outputs": [],
   "source": [
    "def predict_weather(input_csv, output_csv):\n",
    "    df = preprocess_data(input_csv)\n",
    "    X = prepare_features(df)\n",
    "    \n",
    "    model_snow = load_model(\"nn_model_SNOW.h5\")\n",
    "    model_temp = load_model(\"nn_model_TAVG.h5\")\n",
    "    model_prcp = load_model(\"nn_model_PRCP.h5\")\n",
    "    \n",
    "    df['SNOW_pred'] = model_snow.predict(X).flatten()\n",
    "    df['TAVG_pred'] = model_temp.predict(X).flatten()\n",
    "    df['PRCP_pred'] = model_prcp.predict(X).flatten()\n",
    "        \n",
    "    df.to_csv(output_csv, index=False)\n",
    "    print(f\"Predictions saved to {output_csv}\")"
   ]
  },
  {
   "cell_type": "code",
   "execution_count": null,
   "metadata": {},
   "outputs": [
    {
     "name": "stderr",
     "output_type": "stream",
     "text": [
      "WARNING:absl:Compiled the loaded model, but the compiled metrics have yet to be built. `model.compile_metrics` will be empty until you train or evaluate the model.\n",
      "WARNING:absl:Compiled the loaded model, but the compiled metrics have yet to be built. `model.compile_metrics` will be empty until you train or evaluate the model.\n",
      "WARNING:absl:Compiled the loaded model, but the compiled metrics have yet to be built. `model.compile_metrics` will be empty until you train or evaluate the model.\n"
     ]
    },
    {
     "name": "stdout",
     "output_type": "stream",
     "text": [
      "\u001b[1m63/63\u001b[0m \u001b[32m━━━━━━━━━━━━━━━━━━━━\u001b[0m\u001b[37m\u001b[0m \u001b[1m1s\u001b[0m 9ms/step\n",
      "\u001b[1m63/63\u001b[0m \u001b[32m━━━━━━━━━━━━━━━━━━━━\u001b[0m\u001b[37m\u001b[0m \u001b[1m1s\u001b[0m 8ms/step\n",
      "\u001b[1m63/63\u001b[0m \u001b[32m━━━━━━━━━━━━━━━━━━━━\u001b[0m\u001b[37m\u001b[0m \u001b[1m1s\u001b[0m 9ms/step\n",
      "Predictions saved to Datasets\\fin_ds.csv\n"
     ]
    }
   ],
   "source": [
    "predict_weather(r\"../Datasets/nyc_taxi_sample.csv\", r\"../Datasets/fin_ds.csv\")"
   ]
  },
  {
   "cell_type": "code",
   "execution_count": null,
   "metadata": {},
   "outputs": [],
   "source": []
  }
 ],
 "metadata": {
  "kernelspec": {
   "display_name": "Python 3",
   "language": "python",
   "name": "python3"
  },
  "language_info": {
   "codemirror_mode": {
    "name": "ipython",
    "version": 3
   },
   "file_extension": ".py",
   "mimetype": "text/x-python",
   "name": "python",
   "nbconvert_exporter": "python",
   "pygments_lexer": "ipython3",
   "version": "3.12.2"
  }
 },
 "nbformat": 4,
 "nbformat_minor": 2
}
